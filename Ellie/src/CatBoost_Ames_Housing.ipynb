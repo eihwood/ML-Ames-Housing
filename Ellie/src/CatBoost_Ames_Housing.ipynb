{
 "cells": [
  {
   "cell_type": "code",
   "execution_count": null,
   "id": "039f8d49",
   "metadata": {},
   "outputs": [],
   "source": [
    "import pandas as pd\n",
    "import numpy as np\n",
    "import matplotlib.pyplot as plt\n",
    "\n",
    "#import sklearn\n",
    "import sklearn.model_selection as ms\n",
    "from sklearn.model_selection import train_test_split\n",
    "from sklearn import ensemble # for random forest\n",
    "\n",
    "\n",
    "# Hyper-parameter tuning\n",
    "from sklearn.model_selection import GridSearchCV\n",
    "\n",
    "# Examining feature importance\n",
    "from sklearn.inspection import permutation_importance\n",
    "import shap\n",
    "\n",
    "\n",
    "%matplotlib inline\n",
    "# Set the style\n",
    "plt.style.use('fivethirtyeight')\n",
    "\n",
    "pd.set_option('display.max_columns', None)\n",
    "\n",
    "\n",
    "\n"
   ]
  },
  {
   "cell_type": "markdown",
   "id": "f0c52dd1",
   "metadata": {},
   "source": [
    "# FUNCTION DEFINITION"
   ]
  },
  {
   "cell_type": "code",
   "execution_count": 1,
   "id": "41798d6f",
   "metadata": {},
   "outputs": [],
   "source": [
    "# Define some function for evaluation and feature importance\n",
    "\n",
    "def evaluate(model, test_features, test_labels, train_features, train_labels):\n",
    "    r2_test = model.score(test_features, test_labels)\n",
    "    r2_train = model.score(train_features, train_labels)\n",
    "    predictions = model.predict(test_features)\n",
    "    errors = abs(predictions - test_labels)\n",
    "    error_percent_sale_price = (predictions - test_labels) / test_labels\n",
    "    mape = 100 * np.mean(errors / test_labels)\n",
    "    accuracy = 100 - mape\n",
    "    print('Model Performance')\n",
    "    print('Average Test Error: {:0.4f} $USD'.format(np.mean(errors)))\n",
    "    print('Test Accuracy = {:0.2f}%'.format(accuracy))\n",
    "    print('R-squared train = {:0.2f}%'.format(r2_train))\n",
    "    print('R-squared test = {:0.2f}%'.format(r2_test))\n",
    "    return (accuracy, r2_train, r2_test, error_percent_sale_price)\n",
    "\n",
    "# Built in Gini Importance: the mean decrease in impurity (features selected based on variance reduction)\n",
    "# But has tendency to prefer numerical features and categorical features with high cardinality\n",
    "# Not robust to correlated features\n",
    "\n",
    "def get_importance(model, x_test, y_test):\n",
    "    # Get numerical feature importances\n",
    "    importances = list(model.feature_importances_)\n",
    "    # List of tuples with variable and importance\n",
    "    feature_importances = [(feature, round(importance, 4)) for feature, importance in zip(features, importances)]\n",
    "    # Sort the feature importances by most important first\n",
    "    feature_importances_sort = sorted(feature_importances, key = lambda x: x[1], reverse = True)\n",
    "    # Print out the feature and importances \n",
    "    [print('Variable: {:20} Importance: {}'.format(*pair)) for pair in feature_importances_sort if pair[1] > 0.001];\n",
    "    \n",
    "    # Plot Gini Importance\n",
    "    feature_importances = sorted(feature_importances, key = lambda x: x[1])\n",
    "\n",
    "    featureNames, featureScores = zip(*list(feature_importances))\n",
    "    plt.barh(range(len(featureScores[-20:])), featureScores[-20:], tick_label=featureNames[-20:])\n",
    "    plt.xlabel(\"Gini Feature Importance\")\n",
    "\n",
    "    \n",
    "    return feature_importances_sort"
   ]
  },
  {
   "cell_type": "code",
   "execution_count": null,
   "id": "161d216d",
   "metadata": {},
   "outputs": [],
   "source": []
  }
 ],
 "metadata": {
  "kernelspec": {
   "display_name": "Python 3 (ipykernel)",
   "language": "python",
   "name": "python3"
  },
  "language_info": {
   "codemirror_mode": {
    "name": "ipython",
    "version": 3
   },
   "file_extension": ".py",
   "mimetype": "text/x-python",
   "name": "python",
   "nbconvert_exporter": "python",
   "pygments_lexer": "ipython3",
   "version": "3.11.3"
  }
 },
 "nbformat": 4,
 "nbformat_minor": 5
}
