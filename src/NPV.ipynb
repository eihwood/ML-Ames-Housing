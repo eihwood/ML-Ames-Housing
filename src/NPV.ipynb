{
 "cells": [
  {
   "cell_type": "markdown",
   "id": "a0e05a28",
   "metadata": {},
   "source": [
    "Net Present Value (NPV) offers investors the best option to measure the present value of future cash flows of a project, while taking the discount rate into consideration.  In real estate, the opportunity cost, or the next best investment alternative is often used.\n",
    "\n",
    "Net Present Value Formula: The sum of the cash inflow/outflow discounted back to its present value.  Embark on projects with NPV>0, reject those with NPV<0.\n",
    "\n",
    "$$NPV(i, N) = \\sum^{N}_{t=0} {R_t \\over (1+i)^t}$$\n",
    "\n",
    "$R_t$ = net cash flows, i = discount rate and t = time\n",
    "\n",
    "\n",
    "\n",
    "Future value (FV) = Value in the present (PV) * (1 + interest rate)^(number of periods)\n",
    "Present value (PV) = FV / (1 + interest rate)^(number of periods)\n",
    "\n",
    "\n",
    "\n",
    "1. determine projected housing appreciation rate of Ames, IA\n",
    "https://fred.stlouisfed.org/series/ATNHPIUS11180Q \n",
    "YOY average of the last six years: \n",
    "\n",
    "2. Determine discount rates\n",
    "https://www.whitehouse.gov/wp-content/uploads/2023/02/M-23-12-Appendix-C-Update_Discount-Rates.pdf"
   ]
  },
  {
   "cell_type": "code",
   "execution_count": 7,
   "id": "da61488c",
   "metadata": {},
   "outputs": [],
   "source": [
    "def future_value(PV, r=0.0633, t=5):\n",
    "    return PV*(1+r)**t\n",
    "\n",
    "def NPV(FV, r, t=5):\n",
    "    return FV / (1+r)**t\n",
    "    "
   ]
  },
  {
   "cell_type": "code",
   "execution_count": 12,
   "id": "d8652558",
   "metadata": {},
   "outputs": [],
   "source": [
    "pv = 3330000 # arbitrary present sales price\n",
    "\n",
    "fv = future_value(pv)"
   ]
  },
  {
   "cell_type": "code",
   "execution_count": 13,
   "id": "b58b9f51",
   "metadata": {},
   "outputs": [],
   "source": [
    "npv = NPV(fv, 0.05) # would need discount rate here"
   ]
  },
  {
   "cell_type": "code",
   "execution_count": 15,
   "id": "5b5a1dbc",
   "metadata": {},
   "outputs": [],
   "source": [
    "gains_now = npv - pv"
   ]
  },
  {
   "cell_type": "code",
   "execution_count": 16,
   "id": "17956b0e",
   "metadata": {},
   "outputs": [
    {
     "data": {
      "text/plain": [
       "216310.9051637682"
      ]
     },
     "execution_count": 16,
     "metadata": {},
     "output_type": "execute_result"
    }
   ],
   "source": [
    "gains_now"
   ]
  },
  {
   "cell_type": "code",
   "execution_count": null,
   "id": "91e208c6",
   "metadata": {},
   "outputs": [],
   "source": []
  }
 ],
 "metadata": {
  "kernelspec": {
   "display_name": "Python 3 (ipykernel)",
   "language": "python",
   "name": "python3"
  },
  "language_info": {
   "codemirror_mode": {
    "name": "ipython",
    "version": 3
   },
   "file_extension": ".py",
   "mimetype": "text/x-python",
   "name": "python",
   "nbconvert_exporter": "python",
   "pygments_lexer": "ipython3",
   "version": "3.11.3"
  }
 },
 "nbformat": 4,
 "nbformat_minor": 5
}
