{
 "cells": [
  {
   "cell_type": "markdown",
   "id": "d7fae2b1",
   "metadata": {},
   "source": [
    "Net Present Value (NPV) offers investors the best option to measure the present value of future cash flows of a project, while taking the discount rate into consideration.  In real estate, the opportunity cost, or the next best investment alternative is often used.\n",
    "\n",
    "Net Present Value Formula: The sum of the cash inflow/outflow discounted back to its present value.  Embark on projects with NPV>0, reject those with NPV<0.\n",
    "\n",
    "$$NPV(i, N) = \\sum^{N}_{t=0} {R_t \\over (1+i)^t}$$\n",
    "\n",
    "$R_t$ = net cash flows, i = discount rate and t = time\n",
    "\n",
    "\n",
    "\n",
    "Future value (FV) = Value in the present (PV) * (1 + interest rate)^(number of periods)\n",
    "Present value (PV) = FV / (1 + interest rate)^(number of periods)\n",
    "\n",
    "\n",
    "\n",
    "1. determine projected housing appreciation rate of Ames, IA\n",
    "https://fred.stlouisfed.org/series/ATNHPIUS11180Q \n",
    "YOY average of the last six years: \n",
    "\n",
    "2. Determine discount rates\n",
    "https://www.whitehouse.gov/wp-content/uploads/2023/02/M-23-12-Appendix-C-Update_Discount-Rates.pdf"
   ]
  },
  {
   "cell_type": "code",
   "execution_count": 39,
   "id": "01876f49",
   "metadata": {},
   "outputs": [],
   "source": [
    "import pandas as pd\n",
    "\n",
    "def future_value(PV, r=0.0633, t=range(0,6)):\n",
    "    \n",
    "    \n",
    "    fvs = [PV*(1+r)**y for y in t]\n",
    "    \n",
    "    df = pd.DataFrame({'year': t, 'future_value': fvs})\n",
    "    \n",
    "    return df\n",
    "\n",
    "def NPV(FV, r, t=5):\n",
    "    return FV / (1+r)**t\n",
    "    "
   ]
  },
  {
   "cell_type": "code",
   "execution_count": 40,
   "id": "886e0a12",
   "metadata": {},
   "outputs": [
    {
     "data": {
      "text/html": [
       "<div>\n",
       "<style scoped>\n",
       "    .dataframe tbody tr th:only-of-type {\n",
       "        vertical-align: middle;\n",
       "    }\n",
       "\n",
       "    .dataframe tbody tr th {\n",
       "        vertical-align: top;\n",
       "    }\n",
       "\n",
       "    .dataframe thead th {\n",
       "        text-align: right;\n",
       "    }\n",
       "</style>\n",
       "<table border=\"1\" class=\"dataframe\">\n",
       "  <thead>\n",
       "    <tr style=\"text-align: right;\">\n",
       "      <th></th>\n",
       "      <th>year</th>\n",
       "      <th>future_value</th>\n",
       "    </tr>\n",
       "  </thead>\n",
       "  <tbody>\n",
       "    <tr>\n",
       "      <th>0</th>\n",
       "      <td>0</td>\n",
       "      <td>150000.000000</td>\n",
       "    </tr>\n",
       "    <tr>\n",
       "      <th>1</th>\n",
       "      <td>1</td>\n",
       "      <td>159495.000000</td>\n",
       "    </tr>\n",
       "    <tr>\n",
       "      <th>2</th>\n",
       "      <td>2</td>\n",
       "      <td>169591.033500</td>\n",
       "    </tr>\n",
       "    <tr>\n",
       "      <th>3</th>\n",
       "      <td>3</td>\n",
       "      <td>180326.145921</td>\n",
       "    </tr>\n",
       "    <tr>\n",
       "      <th>4</th>\n",
       "      <td>4</td>\n",
       "      <td>191740.790957</td>\n",
       "    </tr>\n",
       "    <tr>\n",
       "      <th>5</th>\n",
       "      <td>5</td>\n",
       "      <td>203877.983025</td>\n",
       "    </tr>\n",
       "  </tbody>\n",
       "</table>\n",
       "</div>"
      ],
      "text/plain": [
       "   year   future_value\n",
       "0     0  150000.000000\n",
       "1     1  159495.000000\n",
       "2     2  169591.033500\n",
       "3     3  180326.145921\n",
       "4     4  191740.790957\n",
       "5     5  203877.983025"
      ]
     },
     "execution_count": 40,
     "metadata": {},
     "output_type": "execute_result"
    }
   ],
   "source": [
    "pv = 150000 # arbitrary present sales price\n",
    "\n",
    "fv = future_value(pv)\n",
    "fv"
   ]
  },
  {
   "cell_type": "code",
   "execution_count": 13,
   "id": "60ca7928",
   "metadata": {},
   "outputs": [],
   "source": [
    "npv = NPV(fv, 0.05) # would need discount rate here"
   ]
  },
  {
   "cell_type": "code",
   "execution_count": 15,
   "id": "3616e185",
   "metadata": {},
   "outputs": [],
   "source": [
    "gains_now = npv - pv"
   ]
  },
  {
   "cell_type": "code",
   "execution_count": 16,
   "id": "6272d14e",
   "metadata": {},
   "outputs": [
    {
     "data": {
      "text/plain": [
       "216310.9051637682"
      ]
     },
     "execution_count": 16,
     "metadata": {},
     "output_type": "execute_result"
    }
   ],
   "source": [
    "gains_now"
   ]
  },
  {
   "cell_type": "code",
   "execution_count": null,
   "id": "c9c79f16",
   "metadata": {},
   "outputs": [],
   "source": []
  }
 ],
 "metadata": {
  "kernelspec": {
   "display_name": "Python 3 (ipykernel)",
   "language": "python",
   "name": "python3"
  },
  "language_info": {
   "codemirror_mode": {
    "name": "ipython",
    "version": 3
   },
   "file_extension": ".py",
   "mimetype": "text/x-python",
   "name": "python",
   "nbconvert_exporter": "python",
   "pygments_lexer": "ipython3",
   "version": "3.11.3"
  }
 },
 "nbformat": 4,
 "nbformat_minor": 5
}
